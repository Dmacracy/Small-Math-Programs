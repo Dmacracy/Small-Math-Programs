{
 "cells": [
  {
   "cell_type": "code",
   "execution_count": 1,
   "metadata": {},
   "outputs": [],
   "source": [
    "import random\n",
    "import numpy as np\n",
    "import matplotlib.pyplot as plt"
   ]
  },
  {
   "cell_type": "code",
   "execution_count": 2,
   "metadata": {},
   "outputs": [],
   "source": [
    "# def create_rose_dice(kvals, n=200, alpha=0.4, color='xkcd:deep rose',color2='xkcd:charcoal', color3='xkcd:jade', backcolor='xkcd:pale'):\n",
    "#     # Create a figure:\n",
    "#     plt.figure(figsize=(20, 20),facecolor=backcolor)\n",
    "#     for i, a in enumerate(kvals):\n",
    "#         # for each subplot load in the ith frame\n",
    "#         ax = plt.subplot(3, 3, i+1)\n",
    "#         x = np.linspace(0, 100 * np.pi, n)\n",
    "#         ax.set_aspect(1)\n",
    "#         plt.axis('off')\n",
    "#         k = kvals[i]\n",
    "#         if i in [0, 2, 6, 8] :\n",
    "#             ax.plot(np.cos(k*x)*np.cos(x), np.cos(k*x)*np.sin(x), color, alpha=alpha)\n",
    "#         elif i in [1, 3, 5, 7]:\n",
    "#             ax.plot(np.cos(k*x)*np.cos(x), np.cos(k*x)*np.sin(x), color2, alpha=alpha)\n",
    "#         else:\n",
    "#             ax.plot(np.cos(k*x)*np.cos(x), np.cos(k*x)*np.sin(x), color3, alpha=alpha)\n",
    "#     # Save the set of subplots:\n",
    "#     plt.savefig(\"roses.png\")"
   ]
  },
  {
   "cell_type": "code",
   "execution_count": 26,
   "metadata": {},
   "outputs": [],
   "source": [
    "'''\n",
    "A class representing a die\n",
    "'''\n",
    "class Dice:\n",
    "    \n",
    "    # Consutruct an n-sideded die that is by default fairly weighted.\n",
    "    def __init__(self, numSides, probs=None):\n",
    "        # Set number of sides:\n",
    "        self.numSides = numSides\n",
    "        # Set probability of getting each side. \n",
    "        # This is represented as a numpy array where the index is the \n",
    "        # side and the value is the probability. If no array is provided\n",
    "        # to the constructor, then the probability is distributed evenly for all outcomes\n",
    "        if probs==None:\n",
    "            self.probs = np.array([1/numSides]*numSides)\n",
    "        else:\n",
    "            self.probs = probs\n",
    "            # Normalize just in case and to better handle rounding errors:\n",
    "        self.probs /= self.probs.sum()\n",
    "        # Get bins for determining outcomes by taking the cummulative sum of the probability distribution vector\n",
    "        self.bins = self.probs.cumsum()\n",
    "        \n",
    "    # Simulate n rolls:\n",
    "    def roll(self, nTimes=1):\n",
    "        rolls = []\n",
    "        for i in range(nTimes):\n",
    "            rollprob = random.random()\n",
    "            rolls.append(np.argmax(bins>rollprob))\n",
    "        return np.array(rolls)"
   ]
  },
  {
   "cell_type": "code",
   "execution_count": 8,
   "metadata": {},
   "outputs": [],
   "source": [
    "a = np.array([0.16666667, 0.16666667, 0.16666667, 0.16666667, 0.16666667,\n",
    "       0.16666667])"
   ]
  },
  {
   "cell_type": "code",
   "execution_count": 27,
   "metadata": {},
   "outputs": [],
   "source": [
    "d = Dice(6)"
   ]
  },
  {
   "cell_type": "code",
   "execution_count": 29,
   "metadata": {},
   "outputs": [
    {
     "data": {
      "text/plain": [
       "array([0, 4, 2, 1, 3])"
      ]
     },
     "execution_count": 29,
     "metadata": {},
     "output_type": "execute_result"
    }
   ],
   "source": [
    "d.roll(5)"
   ]
  },
  {
   "cell_type": "code",
   "execution_count": 15,
   "metadata": {},
   "outputs": [
    {
     "data": {
      "text/plain": [
       "0.0492181796793022"
      ]
     },
     "execution_count": 15,
     "metadata": {},
     "output_type": "execute_result"
    }
   ],
   "source": []
  },
  {
   "cell_type": "code",
   "execution_count": 17,
   "metadata": {},
   "outputs": [],
   "source": [
    "bins = a.cumsum()"
   ]
  },
  {
   "cell_type": "code",
   "execution_count": 23,
   "metadata": {},
   "outputs": [
    {
     "data": {
      "text/plain": [
       "5"
      ]
     },
     "execution_count": 23,
     "metadata": {},
     "output_type": "execute_result"
    }
   ],
   "source": []
  },
  {
   "cell_type": "code",
   "execution_count": null,
   "metadata": {},
   "outputs": [],
   "source": []
  }
 ],
 "metadata": {
  "kernelspec": {
   "display_name": "Python 3",
   "language": "python",
   "name": "python3"
  },
  "language_info": {
   "codemirror_mode": {
    "name": "ipython",
    "version": 3
   },
   "file_extension": ".py",
   "mimetype": "text/x-python",
   "name": "python",
   "nbconvert_exporter": "python",
   "pygments_lexer": "ipython3",
   "version": "3.6.9"
  }
 },
 "nbformat": 4,
 "nbformat_minor": 2
}
