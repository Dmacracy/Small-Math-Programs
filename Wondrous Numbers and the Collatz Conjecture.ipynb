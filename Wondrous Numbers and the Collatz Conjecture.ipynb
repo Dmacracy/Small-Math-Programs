{
 "cells": [
  {
   "cell_type": "markdown",
   "metadata": {},
   "source": [
    "# Wondrous Numbers, Hailstone Numbers, and Unsolved Problems "
   ]
  },
  {
   "cell_type": "markdown",
   "metadata": {},
   "source": [
    "### Introduction\n",
    "\n",
    "Here we are going to investigate a seemingly simple problem in math that turns out to exhibit some complicated behaviors and turns out to be unsolved. The problem is known as the Collatz conjecture. [Wikipedia](https://en.wikipedia.org/wiki/Collatz_conjecture) and [WolframMathWorld](https://mathworld.wolfram.com/CollatzProblem.html) have good aticles about the problem. \n",
    "\n",
    "The Collatz conjecture concerns a sequence of numbers that can be described as follows: ffrst we start with any input number $x$ (where $x$ is a positive integer). If $x$ is even, then the next number in the sequence is $\\frac{x}{2}$, while if $x$ is odd, the next number in the sequence is $3 x + 1$. We can see that if $x= 1$, the sequence will go $1 \\rightarrow 4 \\rightarrow 2 \\rightarrow 1 \\dots$. This squence of 1,4,2,1,4,2 would repeat forever. So typically we are only interested in the sequence until it reaches 1 and then we stop. \n",
    "\n",
    "The conjecture states that all starting numbers will eventually reach 1.    "
   ]
  },
  {
   "cell_type": "code",
   "execution_count": 9,
   "metadata": {},
   "outputs": [],
   "source": [
    "import numpy as np\n",
    "import matplotlib.pyplot as plt"
   ]
  },
  {
   "cell_type": "markdown",
   "metadata": {},
   "source": [
    "Let's write a function to test out some inputs. We will call our function 'wonder' because the numbers whose inputs evntually result in 1 are sometimes called 'wondrous numbers'. As noted by [Douglas Hofstader](https://en.wikipedia.org/wiki/Douglas_Hofstadter) in [GEB](https://en.wikipedia.org/wiki/G%C3%B6del,_Escher,_Bach), if the Collatz Conjecture is true, then all numbers (or positive integers at least) are wonderous numbers. We will write our function as a simple recursive function that prints each step in the sequence and terminates when 1 is reached.  "
   ]
  },
  {
   "cell_type": "code",
   "execution_count": 5,
   "metadata": {},
   "outputs": [],
   "source": [
    "'''This function tries to \n",
    "    determine if a given natural number\n",
    "    is a 'wondrous' number.'''\n",
    "def wonder(n):\n",
    "    print(n)\n",
    "    if n != 1:\n",
    "        if n % 2 == 0:\n",
    "            wonder(n // 2)\n",
    "        else:\n",
    "            wonder(3 * n + 1)\n",
    "    else:\n",
    "        print('Wonder!')"
   ]
  },
  {
   "cell_type": "markdown",
   "metadata": {},
   "source": [
    "Let's test out the function on some input, say $x = 5$."
   ]
  },
  {
   "cell_type": "code",
   "execution_count": 6,
   "metadata": {},
   "outputs": [
    {
     "name": "stdout",
     "output_type": "stream",
     "text": [
      "5\n",
      "16\n",
      "8\n",
      "4\n",
      "2\n",
      "1\n",
      "Wonder!\n"
     ]
    }
   ],
   "source": [
    "wonder(5)"
   ]
  },
  {
   "cell_type": "markdown",
   "metadata": {},
   "source": [
    "Now let's check a more interesting example with $x=27$:"
   ]
  },
  {
   "cell_type": "code",
   "execution_count": 8,
   "metadata": {},
   "outputs": [
    {
     "name": "stdout",
     "output_type": "stream",
     "text": [
      "27\n",
      "82\n",
      "41\n",
      "124\n",
      "62\n",
      "31\n",
      "94\n",
      "47\n",
      "142\n",
      "71\n",
      "214\n",
      "107\n",
      "322\n",
      "161\n",
      "484\n",
      "242\n",
      "121\n",
      "364\n",
      "182\n",
      "91\n",
      "274\n",
      "137\n",
      "412\n",
      "206\n",
      "103\n",
      "310\n",
      "155\n",
      "466\n",
      "233\n",
      "700\n",
      "350\n",
      "175\n",
      "526\n",
      "263\n",
      "790\n",
      "395\n",
      "1186\n",
      "593\n",
      "1780\n",
      "890\n",
      "445\n",
      "1336\n",
      "668\n",
      "334\n",
      "167\n",
      "502\n",
      "251\n",
      "754\n",
      "377\n",
      "1132\n",
      "566\n",
      "283\n",
      "850\n",
      "425\n",
      "1276\n",
      "638\n",
      "319\n",
      "958\n",
      "479\n",
      "1438\n",
      "719\n",
      "2158\n",
      "1079\n",
      "3238\n",
      "1619\n",
      "4858\n",
      "2429\n",
      "7288\n",
      "3644\n",
      "1822\n",
      "911\n",
      "2734\n",
      "1367\n",
      "4102\n",
      "2051\n",
      "6154\n",
      "3077\n",
      "9232\n",
      "4616\n",
      "2308\n",
      "1154\n",
      "577\n",
      "1732\n",
      "866\n",
      "433\n",
      "1300\n",
      "650\n",
      "325\n",
      "976\n",
      "488\n",
      "244\n",
      "122\n",
      "61\n",
      "184\n",
      "92\n",
      "46\n",
      "23\n",
      "70\n",
      "35\n",
      "106\n",
      "53\n",
      "160\n",
      "80\n",
      "40\n",
      "20\n",
      "10\n",
      "5\n",
      "16\n",
      "8\n",
      "4\n",
      "2\n",
      "1\n",
      "Wonder!\n"
     ]
    }
   ],
   "source": [
    "wonder(27)"
   ]
  },
  {
   "cell_type": "code",
   "execution_count": 12,
   "metadata": {},
   "outputs": [],
   "source": [
    "def wonder_sequence_plot(n):\n",
    "    nvals = [n]\n",
    "    idxs = [1]\n",
    "    i = 1\n",
    "    while n != 1:\n",
    "        if n % 2 == 0:\n",
    "            n = n // 2\n",
    "        else:\n",
    "            n = 3 * n + 1\n",
    "        nvals.append(n)\n",
    "        i += 1\n",
    "        idxs.append(i) \n",
    "    plt.plot(idxs, nvals, 'r.')\n",
    "    plt.show()\n",
    "        "
   ]
  },
  {
   "cell_type": "code",
   "execution_count": 15,
   "metadata": {},
   "outputs": [
    {
     "data": {
      "image/png": "[encoded data removed]",
      "text/plain": [
       "<Figure size 432x288 with 1 Axes>"
      ]
     },
     "metadata": {
      "needs_background": "light"
     },
     "output_type": "display_data"
    }
   ],
   "source": [
    "wonder_sequence_plot(5)"
   ]
  },
  {
   "cell_type": "code",
   "execution_count": 16,
   "metadata": {},
   "outputs": [
    {
     "data": {
      "image/png": "[encoded data removed]",
      "text/plain": [
       "<Figure size 432x288 with 1 Axes>"
      ]
     },
     "metadata": {
      "needs_background": "light"
     },
     "output_type": "display_data"
    }
   ],
   "source": [
    "wonder_sequence_plot(27)"
   ]
  },
  {
   "cell_type": "code",
   "execution_count": null,
   "metadata": {},
   "outputs": [],
   "source": []
  }
 ],
 "metadata": {
  "kernelspec": {
   "display_name": "Python 3",
   "language": "python",
   "name": "python3"
  },
  "language_info": {
   "codemirror_mode": {
    "name": "ipython",
    "version": 3
   },
   "file_extension": ".py",
   "mimetype": "text/x-python",
   "name": "python",
   "nbconvert_exporter": "python",
   "pygments_lexer": "ipython3",
   "version": "3.6.9"
  }
 },
 "nbformat": 4,
 "nbformat_minor": 2
}
