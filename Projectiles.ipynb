{
 "cells": [
  {
   "cell_type": "markdown",
   "metadata": {},
   "source": [
    "# Projectile Motion"
   ]
  },
  {
   "cell_type": "markdown",
   "metadata": {},
   "source": [
    "## Introduction\n",
    "In this notebook, we will explore [Projectile Motion](https://en.wikipedia.org/wiki/Projectile_motion).\n",
    "\n",
    "We will first consider objects that are moving under the influence of some initial velocity and the downward pull of gravity, like a ball thrown by a person or a cannonball shot from a cannon. \n",
    "\n",
    "The [gravitaional acceleration](https://en.wikipedia.org/wiki/Gravitational_acceleration) of the object is denoted with the letter $g$ and determines how quickly the velocity in the vertical direction will change. On Earth's surface, the graviational accceleration is $g_{\\oplus} = 9.8 \\text{ m}\\text{/s}^2$.\n",
    "\n",
    "For now we will only consider two dimensions, $x$ (horizontal) and $y$ (vertical). The equations that determine the objects trajectory can be separated into it's $x$ and $y$ components. If the particle has initial position $(x_0, y_0)$ with initial velocity $(v_{x_0}, v_{y_0})$, then the equations for it's motion are:\n",
    "\n",
    "acceleration:<br/>\n",
    "$\\mathbf{a} = (a_x, a_y)$ <br/>\n",
    "where $a_x = 0$, because there is no acceleration in the $x$ direction and $a_y = g$ (where we will take $g$ to be negative since we'll consider the 'down' direction to be when the $y$ values are lesser).\n",
    "\n",
    "velocity:<br/>\n",
    "$\\mathbf{v} = (v_x, v_y)$ <br/>\n",
    "where $v_x = v_{x_0}$ and $v_y = v_{y_0} + g t$. We can see that the velocity in the $x$ direction is not changing and remains at the initial value for all times, while the $y$ value will change with time and will increase in the downward direction. \n",
    "\n",
    "position:<br/>\n",
    "$\\mathbf{p} = (x, y)$ <br/>\n",
    "where $x = x_0 + v_x t$ and $y = y_0 + v_{y_0} t + \\frac{1}{2} g t^2$."
   ]
  },
  {
   "cell_type": "code",
   "execution_count": 1,
   "metadata": {},
   "outputs": [],
   "source": [
    "# These are common scieintific computing libraries that we will use for \n",
    "# numerical computaions and plotting. See the documentation and tutorials for more info\n",
    "\n",
    "# Python tutorial https://docs.python.org/3/tutorial/\n",
    "# Numpy tutorial https://numpy.org/devdocs/user/quickstart.html\n",
    "# Pyplot tutorial https://matplotlib.org/tutorials/introductory/pyplot.html\n",
    "\n",
    "import numpy as np\n",
    "import matplotlib.pyplot as plt"
   ]
  },
  {
   "cell_type": "code",
   "execution_count": 2,
   "metadata": {},
   "outputs": [],
   "source": [
    "'''\n",
    "This function will plot the motion of a projectile in 2D space under the influence of gravity.\n",
    "Arguments:\n",
    "    - init_pos: tuple representing the particle's initial position (inital x position, initial y position)\n",
    "    - init_vel: tuple representing the particle's initial velocity (inital x valocity, initial y velocity)\n",
    "    - g: gravitational acceleartion (assumed in the y direction, in meters per second squared)\n",
    "    - time: total time to plot (in seconds)\n",
    "    - timestep: size of timestep to use (default is 1 millisecond)\n",
    "Return values:\n",
    "    - x, y: numpy arrays of the x and y position as a function of time with an entry for each time step in the \n",
    "            whole time interval.\n",
    "'''\n",
    "def plot_projectile_motion(init_pos=(0,0), init_vel=(10,10), g=-9.8, time=5, timestep=0.001):\n",
    "    x0 = init_pos[0]\n",
    "    y0 = init_pos[1]\n",
    "    vel_x0 = init_vel[0]\n",
    "    vel_y0 = init_vel[1]\n",
    "    \n",
    "    # get list of times:\n",
    "    t = np.linspace(0, time, num=time/timestep)\n",
    "    \n",
    "    # get list of x positions (noting that there are no accelertions acting on the particle in the x direction)\n",
    "    x = x0 + vel_x0 * t\n",
    "    \n",
    "    # Get list of y positions\n",
    "    y = y0 + vel_y0 * t + 0.5 * g * t**2\n",
    "    # For now don't let projectile sink below the ground (y=0)\n",
    "    y = np.where(y > 0, y, 0)\n",
    "    \n",
    "    plt.plot(x, y, \"r-\")\n",
    "    plt.title('Projectile Trajectory')\n",
    "    plt.xlabel('x position (meters)')\n",
    "    plt.ylabel('y position (meters)')\n",
    "    plt.show()\n",
    "    return x, y "
   ]
  },
  {
   "cell_type": "code",
   "execution_count": 3,
   "metadata": {},
   "outputs": [
    {
     "data": {
      "image/png": "[encoded data removed]",
      "text/plain": [
       "<Figure size 432x288 with 1 Axes>"
      ]
     },
     "metadata": {
      "needs_background": "light"
     },
     "output_type": "display_data"
    }
   ],
   "source": [
    "x, y = plot_projectile_motion()"
   ]
  },
  {
   "cell_type": "code",
   "execution_count": 4,
   "metadata": {},
   "outputs": [],
   "source": [
    "'''\n",
    "This function will plot the motion of a projectile in 2D space under the influence of gravity.\n",
    "Arguments:\n",
    "    - init_pos: tuple representing the particle's initial position (inital x position, initial y position)\n",
    "    - init_vel: tuple representing the particle's initial velocity (inital x valocity, initial y velocity)\n",
    "    - g: gravitational acceleartion (assumed in the y direction, in meters per second squared)\n",
    "    - time: total time to plot (in seconds)\n",
    "    - timestep: size of timestep to use (default is 1 millisecond)\n",
    "    - deflection_efficiency: the 'bounce factor' which is the ratio of how much of it's \n",
    "                            velocity the particle retains when it deflects off the ground\n",
    "Return values:\n",
    "    - x, y: numpy arrays of the x and y position as a function of time with an entry for each time step in the \n",
    "            whole time interval.\n",
    "'''\n",
    "def plot_projectile_motion_bouncing(init_pos=(0,0), init_vel=(10,10), g=-9.8, time=5, timestep=0.001, deflection_efficiency=0.5):\n",
    "    x0 = init_pos[0]\n",
    "    y0 = init_pos[1]\n",
    "    vel_x0 = init_vel[0]\n",
    "    vel_y0 = init_vel[1]\n",
    "    \n",
    "    # get list of times:\n",
    "    t = np.linspace(0, time, num=time/timestep)\n",
    "    \n",
    "    # get list of x positions (noting that there are no accelertions acting on the particle in the x direction)\n",
    "    x = x0 + vel_x0 * t\n",
    "    \n",
    "    y = []\n",
    "    vel_y = []\n",
    "    yt = y0\n",
    "    vel_yt = vel_y0\n",
    "    for i in range(t.shape[0]):\n",
    "        y.append(yt)\n",
    "        vel_yt = vel_yt + g * timestep\n",
    "        yt = max(yt + vel_yt * timestep, 0.0)\n",
    "        if yt == 0:\n",
    "            vel_yt *= -deflection_efficiency\n",
    "    y = np.array(y)\n",
    "    \n",
    "    plt.plot(x, y, \"r-\")\n",
    "    plt.title('Projectile Trajectory')\n",
    "    plt.xlabel('x position (meters)')\n",
    "    plt.ylabel('y position (meters)')\n",
    "    plt.show()\n",
    "    return x, y "
   ]
  },
  {
   "cell_type": "code",
   "execution_count": 5,
   "metadata": {},
   "outputs": [
    {
     "data": {
      "image/png": "[encoded data removed]",
      "text/plain": [
       "<Figure size 432x288 with 1 Axes>"
      ]
     },
     "metadata": {
      "needs_background": "light"
     },
     "output_type": "display_data"
    }
   ],
   "source": [
    "x, y = plot_projectile_motion_bouncing()"
   ]
  },
  {
   "cell_type": "code",
   "execution_count": null,
   "metadata": {},
   "outputs": [],
   "source": []
  }
 ],
 "metadata": {
  "kernelspec": {
   "display_name": "Python 3",
   "language": "python",
   "name": "python3"
  },
  "language_info": {
   "codemirror_mode": {
    "name": "ipython",
    "version": 3
   },
   "file_extension": ".py",
   "mimetype": "text/x-python",
   "name": "python",
   "nbconvert_exporter": "python",
   "pygments_lexer": "ipython3",
   "version": "3.6.9"
  }
 },
 "nbformat": 4,
 "nbformat_minor": 2
}
